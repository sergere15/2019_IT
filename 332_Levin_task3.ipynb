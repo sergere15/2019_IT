{
 "cells": [
  {
   "cell_type": "code",
   "execution_count": 9,
   "metadata": {},
   "outputs": [],
   "source": [
    "import numpy as np"
   ]
  },
  {
   "cell_type": "code",
   "execution_count": 63,
   "metadata": {},
   "outputs": [],
   "source": [
    "def get_indices(N, n_batches, split_ratio):\n",
    "    \"\"\"Generates splits of indices from 0 to N-1 into uniformly distributed\\\n",
    "       batches. Each batch is defined by 3 indices [i, j, k] where\\\n",
    "       (j-i) = split_ratio*(k-j). The first batch starts with i = 0,\\\n",
    "       the last one ends with k = N - 1.\n",
    "    Args:\n",
    "        N (int): total counts\n",
    "        n_batches (int): number of splits\n",
    "        split_ratio (float): split ratio, defines position of j in [i, j, k].\n",
    "    Returns:\n",
    "        generator for batch indices [i, j, k]\n",
    "    \"\"\"\n",
    "\n",
    "    if N < ((1 + (1 / split_ratio)) * n_batches) : return \"Error bad data size\"\n",
    "\n",
    "    \n",
    "    min_batch_size = int(1 + (1 / split_ratio))\n",
    "    print(min_batch_size)\n",
    "\n",
    "    for i in range (n_batches, 0, -1):\n",
    "        if (min_batch_size * i) <= N // n_batches:\n",
    "            test_size = min_batch_size * i\n",
    "            print (i , test_size)\n",
    "            step = test_size - ((N // n_batches - test_size) // i)\n",
    "            break\n",
    "    \n",
    "    i = 0\n",
    "    j = (test_size - int(test_size * split_ratio))\n",
    "    k = test_size - 1 \n",
    "    inds = np.array([i, j, k])\n",
    "    yield inds\n",
    "    \n",
    "    for p in range(n_batches - 1):\n",
    "        i += step\n",
    "        j = i + (test_size - int(test_size * split_ratio) - 1)\n",
    "        k = i + test_size - 1\n",
    "        # todo: move forward batch\n",
    "        # calculate new indices\n",
    "        inds = (np.array([i, j , k]))\n",
    "        yield inds"
   ]
  },
  {
   "cell_type": "code",
   "execution_count": null,
   "metadata": {},
   "outputs": [],
   "source": [
    "N = input()\n",
    "n_batches = input()\n",
    "split_ratio = input()\n"
   ]
  },
  {
   "cell_type": "code",
   "execution_count": 64,
   "metadata": {
    "scrolled": true
   },
   "outputs": [
    {
     "name": "stdout",
     "output_type": "stream",
     "text": [
      "5\n",
      "4 20\n",
      "[ 0 15 19]\n",
      "[20 34 39]\n",
      "[40 54 59]\n",
      "[60 74 79]\n",
      "[80 94 99]\n"
     ]
    }
   ],
   "source": [
    "\n",
    "for inds in get_indices(100, 5, 0.25):\n",
    "    print(inds)\n",
    "# expected result:\n",
    "# [0, 44, 55]\n",
    "# [11, 55, 66]\n",
    "# [22, 66, 77]\n",
    "# [33, 77, 88]\n",
    "# [44, 88, 99]\n"
   ]
  },
  {
   "cell_type": "code",
   "execution_count": null,
   "metadata": {},
   "outputs": [],
   "source": []
  }
 ],
 "metadata": {
  "kernelspec": {
   "display_name": "Python 3",
   "language": "python",
   "name": "python3"
  }
 },
 "nbformat": 4,
 "nbformat_minor": 2
}
